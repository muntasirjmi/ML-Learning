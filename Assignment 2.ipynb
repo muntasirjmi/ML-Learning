{
 "cells": [
  {
   "cell_type": "markdown",
   "metadata": {},
   "source": [
    "# Task 1\n",
    "1.1\n",
    "Write a Python Program to implement your own myreduce() function which works exactly like\n",
    "Python's built-in function reduce()"
   ]
  },
  {
   "cell_type": "code",
   "execution_count": 31,
   "metadata": {},
   "outputs": [],
   "source": [
    "def myreduce(fun,itrList):\n",
    "        itrList=iter(itrList)\n",
    "        a=next(itrList)\n",
    "        for b in itrList:\n",
    "            a=fun(a,b)\n",
    "        return a\n",
    "    "
   ]
  },
  {
   "cell_type": "code",
   "execution_count": 32,
   "metadata": {},
   "outputs": [
    {
     "data": {
      "text/plain": [
       "94"
      ]
     },
     "execution_count": 32,
     "metadata": {},
     "output_type": "execute_result"
    }
   ],
   "source": [
    "myreduce((lambda a,b:a+b),[82,3,4,5])"
   ]
  },
  {
   "cell_type": "markdown",
   "metadata": {},
   "source": [
    "1.2\n",
    "Write a Python program to implement your own myfilter() function which works exactly like\n",
    "Python's built-in function filter()"
   ]
  },
  {
   "cell_type": "code",
   "execution_count": 54,
   "metadata": {},
   "outputs": [],
   "source": [
    "def myfilter(func,itrList):\n",
    "        itrList=iter(itrList)\n",
    "        NewList=[]\n",
    "        for a in itrList:\n",
    "            if func(a) : \n",
    "                NewList.append(a)\n",
    "        return NewList   "
   ]
  },
  {
   "cell_type": "code",
   "execution_count": 63,
   "metadata": {},
   "outputs": [],
   "source": [
    "def checkEven(a):\n",
    "            if(a%2 == 0) :\n",
    "                return True\n",
    "            return False\n"
   ]
  },
  {
   "cell_type": "code",
   "execution_count": 66,
   "metadata": {},
   "outputs": [
    {
     "data": {
      "text/plain": [
       "[3, 5, 7]"
      ]
     },
     "execution_count": 66,
     "metadata": {},
     "output_type": "execute_result"
    }
   ],
   "source": [
    "myfilter(lambda a: a%2==1,[2,3,4,5,76,7] )"
   ]
  },
  {
   "cell_type": "code",
   "execution_count": 65,
   "metadata": {},
   "outputs": [
    {
     "data": {
      "text/plain": [
       "[2, 4, 76]"
      ]
     },
     "execution_count": 65,
     "metadata": {},
     "output_type": "execute_result"
    }
   ],
   "source": [
    "myfilter(checkEven,[2,3,4,5,76,7] )"
   ]
  },
  {
   "cell_type": "markdown",
   "metadata": {},
   "source": [
    "2.\n",
    "Implement List comprehensions to produce the following lists.\n",
    "Write List comprehensions to produce the following Lists\n",
    "\n",
    "['A', 'C', 'A', 'D', 'G', 'I', ’L’, ‘ D’]\n",
    "\n",
    "['x', 'xx', 'xxx', 'xxxx', 'y', 'yy', 'yyy', 'yyyy', 'z', 'zz', 'zzz', 'zzzz']\n",
    "\n",
    "['x', 'y', 'z', 'xx', 'yy', 'zz', 'xx', 'yy', 'zz', 'xxxx', 'yyyy', 'zzzz']\n",
    "\n",
    "[[2], [3], [4], [3], [4], [5], [4], [5], [6]]\n",
    "\n",
    "[[2, 3, 4, 5], [3, 4, 5, 6], [4, 5, 6, 7], [5, 6, 7, 8]]\n",
    "\n",
    "[(1, 1), (2, 1), (3, 1), (1, 2), (2, 2), (3, 2), (1, 3), (2, 3), (3, 3)]"
   ]
  },
  {
   "cell_type": "code",
   "execution_count": 68,
   "metadata": {},
   "outputs": [
    {
     "data": {
      "text/plain": [
       "['A', 'C', 'A', 'D', 'G', 'I', 'L', 'D']"
      ]
     },
     "execution_count": 68,
     "metadata": {},
     "output_type": "execute_result"
    }
   ],
   "source": [
    "initial_word='ACADGILD'\n",
    "compren_list = [char for char in initial_word]\n",
    "compren_list"
   ]
  },
  {
   "cell_type": "code",
   "execution_count": 74,
   "metadata": {},
   "outputs": [
    {
     "data": {
      "text/plain": [
       "['x', 'xx', 'xxx', 'xxxx', 'y', 'yy', 'yyy', 'yyyy', 'z', 'zz', 'zzz', 'zzzz']"
      ]
     },
     "execution_count": 74,
     "metadata": {},
     "output_type": "execute_result"
    }
   ],
   "source": [
    "initial_word_2='xyz'\n",
    "initial_word_2 = [ number*char for char in initial_word_2  for number in range(1,5)  ]\n",
    "initial_word_2"
   ]
  },
  {
   "cell_type": "code",
   "execution_count": 75,
   "metadata": {},
   "outputs": [
    {
     "data": {
      "text/plain": [
       "['x', 'y', 'z', 'xx', 'yy', 'zz', 'xxx', 'yyy', 'zzz', 'xxxx', 'yyyy', 'zzzz']"
      ]
     },
     "execution_count": 75,
     "metadata": {},
     "output_type": "execute_result"
    }
   ],
   "source": [
    "initial_word_3='xyz'\n",
    "initial_word_3 = [ number*char for number in range(1,5) for char in initial_word_3  ]\n",
    "initial_word_3"
   ]
  },
  {
   "cell_type": "code",
   "execution_count": 80,
   "metadata": {},
   "outputs": [
    {
     "data": {
      "text/plain": [
       "[[2], [3], [4], [3], [4], [5], [4], [5], [6]]"
      ]
     },
     "execution_count": 80,
     "metadata": {},
     "output_type": "execute_result"
    }
   ],
   "source": [
    "number_list=[2,3,4]\n",
    "new_num_list=[[num+i] for num in number_list for i in range(0,3)]\n",
    "new_num_list"
   ]
  },
  {
   "cell_type": "code",
   "execution_count": 83,
   "metadata": {},
   "outputs": [
    {
     "data": {
      "text/plain": [
       "[[2, 3, 4, 5], [3, 4, 5, 6], [4, 5, 6, 7], [5, 6, 7, 8]]"
      ]
     },
     "execution_count": 83,
     "metadata": {},
     "output_type": "execute_result"
    }
   ],
   "source": [
    "number_list_2=[2,3,4,5]\n",
    "new_num_list_2=[[num+i for num in number_list_2] for i in range(0,4)]\n",
    "new_num_list_2"
   ]
  },
  {
   "cell_type": "code",
   "execution_count": 87,
   "metadata": {},
   "outputs": [
    {
     "data": {
      "text/plain": [
       "[(1, 1), (2, 1), (3, 1), (1, 2), (2, 2), (3, 2), (1, 3), (2, 3), (3, 3)]"
      ]
     },
     "execution_count": 87,
     "metadata": {},
     "output_type": "execute_result"
    }
   ],
   "source": [
    "number_list_2=[1,2,3]\n",
    "new_num_list_2=[(i,num) for num in number_list_2 for i in range(1,4)]\n",
    "new_num_list_2"
   ]
  },
  {
   "cell_type": "markdown",
   "metadata": {},
   "source": [
    "3.\n",
    "Implement a function longestWord() that takes a list of words and returns the longest one."
   ]
  },
  {
   "cell_type": "code",
   "execution_count": 101,
   "metadata": {},
   "outputs": [
    {
     "name": "stdout",
     "output_type": "stream",
     "text": [
      "Enter the words : My Name is Muntasir Alam\n",
      "Longest word on the sentence is Muntasir\n"
     ]
    }
   ],
   "source": [
    "def longestWord(words):\n",
    "            words_list=words.split()\n",
    "            longest_word=words_list[0]\n",
    "            for word in words_list:\n",
    "                if(len(word)>len(longest_word)) :\n",
    "                                longest_word=word\n",
    "            return longest_word        \n",
    "\n",
    "\n",
    "my_sentencance=input(\"Enter the words : \")        \n",
    "print(\"Longest word on the sentence is %s\" % longestWord(my_sentencance))\n",
    "    "
   ]
  },
  {
   "cell_type": "markdown",
   "metadata": {},
   "source": [
    "# Task 2:\n",
    "1.1\n",
    "Write a Python Program(with class concepts) to find the area of the triangle using the below\n",
    "formula.\n",
    "\n",
    "area = (s*(s-a)*(s-b)*(s-c)) ** 0.5\n",
    "\n",
    "Function to take the length of the sides of triangle from user should be defined in the parent\n",
    "\n",
    "class and function to calculate the area should be defined in subclass."
   ]
  },
  {
   "cell_type": "code",
   "execution_count": 18,
   "metadata": {},
   "outputs": [
    {
     "name": "stdout",
     "output_type": "stream",
     "text": [
      "Enter the sides of triangle :\n",
      "First Side A :1\n",
      "Second Side B :1\n",
      "Third Side C :1\n",
      "Area : 0.433013\n"
     ]
    }
   ],
   "source": [
    "class Triangle :\n",
    "    def __init__(self,a,b,c):\n",
    "        self.a=a\n",
    "        self.b=b\n",
    "        self.c=c\n",
    "class Calculate(Triangle) :\n",
    "    def __init__(self,a,b,c):\n",
    "        super().__init__(a,b,c)\n",
    "    def area_calculate(self):\n",
    "        s=float((self.a+self.b+self.c)/2.0)\n",
    "        area=float((s*(s-self.a)*(s-self.b)*(s-self.c)) **0.5)\n",
    "        return area\n",
    "\n",
    "    \n",
    "print(\"Enter the sides of triangle :\")\n",
    "try:\n",
    "    first_side=float(input(\"First Side A :\"))\n",
    "    second_side=float(input(\"Second Side B :\"))\n",
    "    third_side=float(input(\"Third Side C :\"))\n",
    "except:\n",
    "    print(\"Only Number\")\n",
    "else:                    \n",
    "    tri=Calculate(first_side,second_side,third_side)\n",
    "    tri.area_calculate()\n",
    "    print(\"Area : %f\"%tri.area_calculate())\n",
    "        \n"
   ]
  },
  {
   "cell_type": "markdown",
   "metadata": {},
   "source": [
    "1.2\n",
    "Write a function filter_long_words() that takes a list of words and an integer n and returns the list\n",
    "of words that are longer than n.\n"
   ]
  },
  {
   "cell_type": "code",
   "execution_count": 16,
   "metadata": {},
   "outputs": [
    {
     "name": "stdout",
     "output_type": "stream",
     "text": [
      "Enter Word List as comma seperated : Apple, Mango, Cat, Hen, My, Yours\n",
      "Enter the value of n : 4\n",
      "['Apple', 'Mango', 'Yours']\n"
     ]
    }
   ],
   "source": [
    "def filter_long_words(word_list,n):\n",
    "        iter(word_list)\n",
    "        longest_word_list=[]\n",
    "        for word in word_list :\n",
    "            word=word.strip()\n",
    "            if(len(word)>n):\n",
    "                longest_word_list.append(word)\n",
    "        return longest_word_list       \n",
    "\n",
    "try:\n",
    "    word_list=input(\"Enter Word List as comma seperated : \")\n",
    "    word_list=word_list.split(\",\")\n",
    "    n=int(input(\"Enter the value of n : \"))\n",
    "except:\n",
    "    print(\"Only Integer value is allowed for n\")\n",
    "else :\n",
    "    print(filter_long_words(word_list,n))\n",
    "    \n",
    "    "
   ]
  },
  {
   "cell_type": "markdown",
   "metadata": {},
   "source": [
    "2.1\n",
    "Write a Python program using function concept that maps list of words into a list of integers\n",
    "\n",
    "representing the lengths of the corresponding words.\n",
    "\n",
    "Hint: If a list [ ab,cde,erty] is passed on to the python function output should come as [2,3,4]\n",
    "    \n",
    "Here 2,3 and 4 are the lengths of the words in the list."
   ]
  },
  {
   "cell_type": "code",
   "execution_count": 4,
   "metadata": {},
   "outputs": [
    {
     "name": "stdout",
     "output_type": "stream",
     "text": [
      "Enter Word List as comma seperated : My,Name,is,Muntasir,Alam\n",
      "['My', 'Name', 'is', 'Muntasir', 'Alam']\n",
      "[2, 4, 2, 8, 4]\n"
     ]
    }
   ],
   "source": [
    "word_list2=input(\"Enter Word List as comma seperated : \")\n",
    "word_list2=word_list2.split(\",\")\n",
    "word_list2=list(map(lambda a:a.strip(),word_list2))\n",
    "print(word_list2)\n",
    "word_list2_character_count=list(map(lambda a:len(a),word_list2))\n",
    "print(word_list2_character_count)"
   ]
  },
  {
   "cell_type": "markdown",
   "metadata": {},
   "source": [
    "2.2\n",
    "Write a Python function which takes a character (i.e. a string of length 1) and returns True if it is\n",
    "a vowel, False otherwise.\n"
   ]
  },
  {
   "cell_type": "code",
   "execution_count": 17,
   "metadata": {},
   "outputs": [
    {
     "name": "stdout",
     "output_type": "stream",
     "text": [
      "Enter a character :E\n",
      "Is Vowel ? True\n"
     ]
    }
   ],
   "source": [
    "def vowel_check(char):\n",
    "    char=char.lower()\n",
    "    vowel_char=['a','e','i','o','u']\n",
    "    if char in vowel_char:\n",
    "        return True\n",
    "    else :\n",
    "        return False\n",
    "\n",
    "character=input(\"Enter a character :\")\n",
    "\n",
    "print(\"Is Vowel ? \"+ str(vowel_check(character)))"
   ]
  },
  {
   "cell_type": "code",
   "execution_count": null,
   "metadata": {},
   "outputs": [],
   "source": []
  }
 ],
 "metadata": {
  "kernelspec": {
   "display_name": "Python 3",
   "language": "python",
   "name": "python3"
  },
  "language_info": {
   "codemirror_mode": {
    "name": "ipython",
    "version": 3
   },
   "file_extension": ".py",
   "mimetype": "text/x-python",
   "name": "python",
   "nbconvert_exporter": "python",
   "pygments_lexer": "ipython3",
   "version": "3.7.3"
  }
 },
 "nbformat": 4,
 "nbformat_minor": 2
}
